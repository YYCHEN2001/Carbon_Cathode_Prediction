{
 "cells": [
  {
   "metadata": {
    "ExecuteTime": {
     "end_time": "2024-06-11T08:59:37.252147Z",
     "start_time": "2024-06-11T08:59:36.355370Z"
    }
   },
   "cell_type": "code",
   "source": [
    "import pandas as pd\n",
    "from sklearn.model_selection import train_test_split\n",
    "\n",
    "data = pd.read_csv('data/dataset_reduced.csv')\n",
    "\n",
    "data['target_class'] = pd.qcut(data['Cs'], q=10, labels=False)\n",
    "X = data.drop(['Cs', 'target_class'], axis=1)\n",
    "y = data['Cs']\n",
    "stratify_column = data['target_class']\n",
    "\n",
    "X_train, X_test, y_train, y_test = train_test_split(X, y, test_size=0.2, random_state=21, stratify=stratify_column)\n",
    "\n",
    "X_train = pd.DataFrame(X_train, columns=X.columns)\n",
    "X_test = pd.DataFrame(X_test, columns=X.columns)\n",
    "\n",
    "X_train"
   ],
   "id": "b1e8e80c7ef4ee0",
   "execution_count": 1,
   "outputs": []
  },
  {
   "metadata": {
    "ExecuteTime": {
     "end_time": "2024-06-11T08:59:37.269703Z",
     "start_time": "2024-06-11T08:59:37.253672Z"
    }
   },
   "cell_type": "code",
   "source": [
    "statistics = X_train.describe(include='all')\n",
    "statistics"
   ],
   "id": "4309eda4d318841b",
   "execution_count": 2,
   "outputs": []
  },
  {
   "metadata": {
    "ExecuteTime": {
     "end_time": "2024-06-11T08:59:37.274891Z",
     "start_time": "2024-06-11T08:59:37.269703Z"
    }
   },
   "cell_type": "code",
   "source": [
    "median = statistics.iloc[5]\n",
    "median"
   ],
   "id": "6bb99effb22b3445",
   "execution_count": 3,
   "outputs": []
  },
  {
   "metadata": {
    "ExecuteTime": {
     "end_time": "2024-06-11T08:59:37.294657Z",
     "start_time": "2024-06-11T08:59:37.275900Z"
    }
   },
   "cell_type": "code",
   "source": [
    "import pandas as pd\n",
    "import numpy as np\n",
    "\n",
    "# 固定列的值\n",
    "fixed_values = {\n",
    "    \"SSA\": 1667.3,\n",
    "    \"PV\": 1.2,\n",
    "    \"Dap\": 2.508,\n",
    "    \"ID/IG\": 1.02,\n",
    "    \"Mic\": 0.48,\n",
    "    \"CD\": 0.2\n",
    "}\n",
    "\n",
    "# 生成等距分布的Dap和ID/IG的值\n",
    "N_values = np.linspace(1, 20, 100)\n",
    "O_values = np.linspace(1, 30, 100)\n",
    "\n",
    "columns = [\n",
    "    \"O\", \"N\", \"SSA\", \"PV\",  \"Mic\",\"Dap\", \"ID/IG\", \n",
    "     \"Current density\",\n",
    "]\n",
    "\n",
    "# 创建一个空的DataFrame\n",
    "data = []\n",
    "\n",
    "# 填充数据\n",
    "for O in O_values:\n",
    "    for N in N_values:\n",
    "        row = fixed_values.copy()\n",
    "        row[\"N\"] = N\n",
    "        row[\"O\"] = O\n",
    "        data.append(row)\n",
    "\n",
    "df = pd.DataFrame(data, columns=columns)\n",
    "df"
   ],
   "id": "3baf547755d3060d",
   "execution_count": 4,
   "outputs": []
  },
  {
   "metadata": {
    "ExecuteTime": {
     "end_time": "2024-06-11T08:59:38.035002Z",
     "start_time": "2024-06-11T08:59:37.295668Z"
    }
   },
   "cell_type": "code",
   "source": [
    "from xgboost import XGBRegressor\n",
    "\n",
    "xgb = XGBRegressor(n_estimators=80,\n",
    "                             learning_rate=0.14,\n",
    "                             subsample=0.5,\n",
    "                             gamma=0.1,\n",
    "                             max_depth=8,\n",
    "                             min_child_weight=2,\n",
    "                             reg_alpha=0.26,\n",
    "                             colsample_bytree=0.7,\n",
    "                             colsample_bylevel=1.0,\n",
    "                             colsample_bynode=0.6,\n",
    "                             random_state=21)\n",
    "xgb.fit(X_train, y_train)\n",
    "\n",
    "y_train_pred = xgb.predict(X_train)\n",
    "y_test_pred = xgb.predict(X_test)\n",
    "y_generated_pred = xgb.predict(df)"
   ],
   "id": "c0585e57d9ce4d9c",
   "execution_count": 5,
   "outputs": []
  },
  {
   "metadata": {
    "ExecuteTime": {
     "end_time": "2024-06-11T08:59:38.036172Z",
     "start_time": "2024-06-11T08:59:38.035002Z"
    }
   },
   "cell_type": "code",
   "source": [
    "import numpy as np\n",
    "import matplotlib.pyplot as plt\n",
    "from scipy.interpolate import griddata\n",
    "\n",
    "# 生成示例数据\n",
    "# 这部分需要替换为你的实际数据\n",
    "feature_1 = df['N']\n",
    "feature_2 = df['O']\n",
    "c = y_generated_pred\n",
    "\n",
    "# 创建网格数据\n",
    "x = np.linspace(1, 20, 10)\n",
    "y = np.linspace(1, 30, 10)\n",
    "X, Y = np.meshgrid(x, y)\n",
    "\n",
    "# 插值\n",
    "Z = griddata((feature_1, feature_2), c, (X, Y), method='cubic')\n",
    "\n",
    "# 绘制等高线图\n",
    "plt.figure(figsize=(20, 19))\n",
    "plt.rcParams.update({\n",
    "        'font.family': 'Times New Roman',\n",
    "        'font.weight': 'bold',\n",
    "        'figure.figsize': (10, 10)  # 设置图像尺寸为10x10英寸\n",
    "    })\n",
    "contour = plt.contourf(X, Y, Z, levels=100, cmap='rainbow')\n",
    "cbar = plt.colorbar(contour)\n",
    "cbar.set_label('Cs (mAh/g)', rotation=270, labelpad=48, fontweight='bold', fontsize=32)\n",
    "\n",
    "# 设置轴标签和标题\n",
    "plt.xlabel('N', fontweight='bold', fontsize=32)\n",
    "plt.ylabel('O', fontweight='bold', fontsize=32)\n",
    "plt.title('Specific capacity prediction contour plot', fontweight='bold', fontsize=48)\n",
    "plt.savefig('output/figures/contour_N&O.png', bbox_inches='tight', transparent=True, dpi=300)\n",
    "plt.show()\n"
   ],
   "id": "a45d499fbf20345",
   "execution_count": null,
   "outputs": []
  },
  {
   "metadata": {},
   "cell_type": "code",
   "source": [
    "fixed_values = {\n",
    "    \"O\": 8,\n",
    "    \"N\": 2.5,\n",
    "    # \"Specific surface area\": 1667.3,\n",
    "    \"Pore volume\": 1.2,\n",
    "    \"Dap\": 2.508,\n",
    "    \"ID/IG\": 1.02,\n",
    "    # \"micro%\": 0.48,\n",
    "    \"Current density\": 0.2\n",
    "}\n",
    "\n",
    "# 生成等距分布的Dap和ID/IG的值\n",
    "SSA_values = np.linspace(200, 3600, 100)\n",
    "ratio_values = np.linspace(0, 1, 100)\n",
    "\n",
    "columns = [\n",
    "    \"O\", \"N\", \"Specific surface area\", \"Pore volume\", \"Dap\", \"ID/IG\", \n",
    "     \"Current density\", \"micro%\", \n",
    "]\n",
    "\n",
    "# 创建一个空的DataFrame\n",
    "data = []\n",
    "\n",
    "# 填充数据\n",
    "for SSA in SSA_values:\n",
    "    for ratio in ratio_values:\n",
    "        row = fixed_values.copy()\n",
    "        row[\"Specific surface area\"] = SSA\n",
    "        row[\"micro%\"] = ratio\n",
    "        data.append(row)\n",
    "\n",
    "df = pd.DataFrame(data, columns=columns)\n",
    "df"
   ],
   "id": "75b4e54920773ec0",
   "execution_count": null,
   "outputs": []
  },
  {
   "metadata": {},
   "cell_type": "code",
   "source": "y_generated_pred = xgb.predict(df)",
   "id": "62a30cfa99471d20",
   "execution_count": null,
   "outputs": []
  },
  {
   "metadata": {},
   "cell_type": "code",
   "source": [
    "import numpy as np\n",
    "import matplotlib.pyplot as plt\n",
    "from scipy.interpolate import griddata\n",
    "\n",
    "# 生成示例数据\n",
    "# 这部分需要替换为你的实际数据\n",
    "feature_1 = df['Specific surface area']\n",
    "feature_2 = df['micro%']\n",
    "c = y_generated_pred\n",
    "\n",
    "# 创建网格数据\n",
    "x = np.linspace(200, 3600, 10)\n",
    "y = np.linspace(0, 1, 10)\n",
    "X, Y = np.meshgrid(x, y)\n",
    "\n",
    "# 插值\n",
    "Z = griddata((feature_1, feature_2), c, (X, Y), method='cubic')\n",
    "\n",
    "# 绘制等高线图\n",
    "plt.figure(figsize=(20, 19))\n",
    "plt.rcParams.update({\n",
    "        'font.family': 'Times New Roman',\n",
    "        'font.weight': 'bold',\n",
    "        'figure.figsize': (10, 10)  # 设置图像尺寸为10x10英寸\n",
    "    })\n",
    "contour = plt.contourf(X, Y, Z, levels=100, cmap='coolwarm')\n",
    "cbar = plt.colorbar(contour)\n",
    "cbar.set_label('Cs (mAh/g)', rotation=270, labelpad=48, fontweight='bold', fontsize=32)\n",
    "\n",
    "# 设置轴标签和标题\n",
    "plt.xlabel('Specific surface area', fontweight='bold', fontsize=32)\n",
    "plt.ylabel('micro%', fontweight='bold', fontsize=32)\n",
    "plt.title('Specific capacity prediction contour plot', fontweight='bold', fontsize=48)\n",
    "plt.savefig('output/figures/contour_SSA&ratio.png', bbox_inches='tight', transparent=True, dpi=300)\n",
    "plt.show()\n"
   ],
   "id": "5e3e99f0fd3d831",
   "execution_count": null,
   "outputs": []
  },
  {
   "metadata": {},
   "cell_type": "code",
   "source": "",
   "id": "d92f5fb192cc9c92",
   "execution_count": null,
   "outputs": []
  }
 ],
 "metadata": {
  "kernelspec": {
   "display_name": "sklearn-env",
   "language": "python",
   "name": "sklearn-env"
  },
  "language_info": {
   "codemirror_mode": {
    "name": "ipython",
    "version": 2
   },
   "file_extension": ".py",
   "mimetype": "text/x-python",
   "name": "python",
   "nbconvert_exporter": "python",
   "pygments_lexer": "ipython2",
   "version": "2.7.6"
  }
 },
 "nbformat": 4,
 "nbformat_minor": 5
}
